{
  "nbformat": 4,
  "nbformat_minor": 0,
  "metadata": {
    "colab": {
      "provenance": [],
      "authorship_tag": "ABX9TyPkTcXRRtSsFIszl8tbOKsw",
      "include_colab_link": true
    },
    "kernelspec": {
      "name": "python3",
      "display_name": "Python 3"
    },
    "language_info": {
      "name": "python"
    }
  },
  "cells": [
    {
      "cell_type": "markdown",
      "metadata": {
        "id": "view-in-github",
        "colab_type": "text"
      },
      "source": [
        "<a href=\"https://colab.research.google.com/github/vcorredorg/SenalesySistemas2025/blob/main/Ejercicios_cuaderno_Transformada_de_Fourier_.ipynb\" target=\"_parent\"><img src=\"https://colab.research.google.com/assets/colab-badge.svg\" alt=\"Open In Colab\"/></a>"
      ]
    },
    {
      "cell_type": "markdown",
      "source": [
        "##Ejercicios Cuaderno Transformada de Fourier\n",
        "\n",
        "###1.Presente y describa el modelo que utiliza la FFT para el cálculo de los armónicos.\n",
        "\n",
        "####Serie de Fourier:\n",
        "\n",
        "La **Serie de Fourier** representa una señal periódica \\(x(t)\\) (o una función \\(f(x)\\)) como suma de senos y cosenos (o, equivalentemente, exponenciales complejas). De tal manera que cualquier forma periódica “razonable” puede descomponerse en **armónicos** de una frecuencia fundamental $ \\omega_0 $, con pesos (coeficientes) que miden cuánto aporta cada armónico.\n",
        "\n",
        "##### Forma trigonométrica\n",
        "$$\n",
        "x(t)=\\frac{a_0}{2}+\\sum_{n=1}^{\\infty}\\Big[a_n\\cos(n\\omega_0 t)+b_n\\sin(n\\omega_0 t)\\Big].\n",
        "$$\n",
        "\n",
        "Coeficientes:\n",
        "$$\n",
        "\\begin{aligned}\n",
        "a_0 &= \\frac{2}{T}\\int_{t_0}^{t_0+T} x(t)\\,dt,\\\\[4pt]\n",
        "a_n &= \\frac{2}{T}\\int_{t_0}^{t_0+T} x(t)\\cos(n\\omega_0 t)\\,dt,\\quad n\\ge 1,\\\\[4pt]\n",
        "b_n &= \\frac{2}{T}\\int_{t_0}^{t_0+T} x(t)\\sin(n\\omega_0 t)\\,dt,\\quad n\\ge 1.\n",
        "\\end{aligned}\n",
        "$$\n",
        "\n",
        "#####Forma compleja\n",
        "$$\n",
        "x(t)=\\sum_{k=-\\infty}^{\\infty} c_k\\, e^{jk\\omega_0 t},\n",
        "\\qquad\n",
        "c_k=\\frac{1}{T}\\int_{t_0}^{t_0+T} x(t)\\,e^{-jk\\omega_0 t}\\,dt.\n",
        "$$\n",
        "\n",
        "\n",
        "#####Serie de Fourier en tiempo discreto (DTFS) para secuencias periódicas\n",
        "Si \\(x[n]\\) es periódica de periodo \\(N\\):\n",
        "\n",
        "$$\n",
        "x[n]=\\sum_{k=0}^{N-1} C_k\\, e^{j\\frac{2\\pi}{N}kn},\\qquad\n",
        "C_k=\\frac{1}{N}\\sum_{n=0}^{N-1} x[n]\\, e^{-j\\frac{2\\pi}{N}kn}.\n",
        "$$\n",
        "\n",
        "#### Cálculo de armónicos usando la Transformada Rápida de Fourier (FFT)\n",
        "La Transformada de Fourier descompone una señal en una suma de senos y cosenos de diferentes frecuencias.  \n",
        "El modelo matemático de una señal periódica se expresa como:\n",
        "\n",
        "$$\n",
        "x(t) = \\sum_{n=0}^{N-1} X_n e^{j2\\pi n f_0 t}\n",
        "$$\n",
        "\n",
        "donde \\( X_n \\) son los coeficientes complejos que representan la **amplitud y fase** de cada armónico.\n",
        "\n",
        "La FFT (Fast Fourier Transform) es un algoritmo eficiente para calcular la DFT (Transformada Discreta de Fourier):\n",
        "\n",
        "$$\n",
        "X[k] = \\sum_{n=0}^{N-1} x[n] e^{-j(2\\pi/N)kn}\n",
        "$$\n",
        "\n",
        "Cada valor \\( X[k] \\) corresponde a un armónico del espectro de la señal.\n",
        "\n",
        "\n",
        "\n",
        "\n",
        "\n"
      ],
      "metadata": {
        "id": "8Zn2IPJTOEND"
      }
    }
  ]
}