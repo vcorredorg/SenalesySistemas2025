{
  "nbformat": 4,
  "nbformat_minor": 0,
  "metadata": {
    "colab": {
      "provenance": [],
      "authorship_tag": "ABX9TyM9Un8x33oPBEa2JT3DhZ1Y",
      "include_colab_link": true
    },
    "kernelspec": {
      "name": "python3",
      "display_name": "Python 3"
    },
    "language_info": {
      "name": "python"
    }
  },
  "cells": [
    {
      "cell_type": "markdown",
      "metadata": {
        "id": "view-in-github",
        "colab_type": "text"
      },
      "source": [
        "<a href=\"https://colab.research.google.com/github/vcorredorg/SenalesySistemas2025/blob/main/EjercicioTaller1.ipynb\" target=\"_parent\"><img src=\"https://colab.research.google.com/assets/colab-badge.svg\" alt=\"Open In Colab\"/></a>"
      ]
    },
    {
      "cell_type": "code",
      "execution_count": 18,
      "metadata": {
        "colab": {
          "base_uri": "https://localhost:8080/"
        },
        "id": "xUKXx59jD0Bl",
        "outputId": "54dfb055-fe88-4a71-dee9-289e58e662da"
      },
      "outputs": [
        {
          "output_type": "stream",
          "name": "stdout",
          "text": [
            "0.238732414637843\n",
            "[ 0.          0.23993208  0.47986415  0.71979623  0.9597283   1.19966038\n",
            "  1.43959245  1.67952453  1.9194566   2.15938868  2.39932075  2.63925283\n",
            "  2.8791849   3.11911698  3.35904905  3.59898113  3.8389132   4.07884528\n",
            "  4.31877735  4.55870943  4.7986415   5.03857358  5.27850565  5.51843773\n",
            "  5.7583698   5.99830188  6.23823395  6.47816603  6.7180981   6.95803018\n",
            "  7.19796225  7.43789433  7.6778264   7.91775848  8.15769055  8.39762263\n",
            "  8.6375547   8.87748678  9.11741885  9.35735093  9.597283    9.83721508\n",
            " 10.07714715 10.31707923 10.5570113  10.79694338 11.03687545 11.27680753\n",
            " 11.5167396  11.75667168 11.99660375 12.23653583 12.4764679  12.71639998\n",
            " 12.95633205 13.19626413 13.4361962  13.67612828 13.91606035 14.15599243\n",
            " 14.3959245  14.63585658 14.87578865 15.11572073 15.3556528  15.59558488\n",
            " 15.83551695 16.07544903 16.3153811  16.55531318 16.79524525 17.03517733\n",
            " 17.2751094  17.51504148 17.75497355 17.99490563 18.2348377  18.47476978\n",
            " 18.71470185 18.95463393 19.194566   19.43449808 19.67443015 19.91436223\n",
            " 20.1542943  20.39422638 20.63415845 20.87409053 21.1140226  21.35395468\n",
            " 21.59388675 21.83381883 22.0737509  22.31368298 22.55361505 22.79354713\n",
            " 23.0334792  23.27341128 23.51334335 23.75327543 23.9932075  24.23313958\n",
            " 24.47307165 24.71300373 24.9529358  25.19286788 25.43279995 25.67273203\n",
            " 25.9126641  26.15259618 26.39252825 26.63246033 26.8723924  27.11232448\n",
            " 27.35225655 27.59218863 27.8321207  28.07205278 28.31198485 28.55191693\n",
            " 28.791849   29.03178108 29.27171315 29.51164523 29.7515773  29.99150938\n",
            " 30.23144145 30.47137353 30.7113056  30.95123768 31.19116975 31.43110183\n",
            " 31.6710339  31.91096598 32.15089805 32.39083013 32.6307622  32.87069428\n",
            " 33.11062635 33.35055843 33.5904905  33.83042258 34.07035465 34.31028673\n",
            " 34.5502188  34.79015088 35.03008295 35.27001503 35.5099471  35.74987918\n",
            " 35.98981125 36.22974333 36.4696754  36.70960748 36.94953955 37.18947163\n",
            " 37.4294037  37.66933578 37.90926785 38.14919993 38.389132   38.62906408\n",
            " 38.86899615 39.10892823 39.3488603  39.58879238 39.82872445 40.06865653\n",
            " 40.3085886  40.54852068 40.78845275 41.02838483 41.2683169  41.50824898\n",
            " 41.74818105 41.98811313 42.2280452  42.46797728 42.70790935 42.94784143\n",
            " 43.1877735  43.42770558 43.66763765 43.90756973 44.1475018  44.38743388\n",
            " 44.62736595 44.86729803 45.1072301  45.34716218 45.58709425 45.82702633\n",
            " 46.0669584  46.30689048 46.54682255 46.78675463 47.0266867  47.26661878\n",
            " 47.50655085 47.74648293]\n",
            "(200,)\n"
          ]
        }
      ],
      "source": [
        "import numpy as np # importar libreria numpy\n",
        "import matplotlib.pyplot as plt #librería para gráficas básicas en python\n",
        "\n",
        "# crear vector tiempo por rango y por número de muestras\n",
        "A=30\n",
        "w=100 #Frecuencia Angular\n",
        "\n",
        "#Parámetros señal\n",
        "F0 = w / (2*np.pi)  # Frecuencia de la señal[Hz]\n",
        "T0= 1/F0\n",
        "\n",
        "# Tiempo  de muestreo\n",
        "ti =0\n",
        "tf=3*F0\n",
        "K = 200 # número de muestras\n",
        "\n",
        "#Muestreo\n",
        "Fs=100\n",
        "Ts = (tf - ti)/K\n",
        "print(Ts)\n",
        "\n",
        "# vector de tiempo equiespacioado\n",
        "t = np.linspace(start=ti,stop=tf,num=K) #tiempo continuo\n",
        "t_k = np.arange(0, tf, Ts)    # Tiempo discreto\n",
        "print(t)\n",
        "print(t.shape)\n",
        "\n",
        "#Funcion\n",
        "x = A*np.cos(w*t) #Señeal continua\n",
        "x_tk = A*np.cos(w*t_k) # Señal muestreada\n",
        "\n",
        "#Cuantización\n",
        "bits = 4\n",
        "estados = 2**bits\n",
        "\n",
        "#Calculo pendiente\n",
        "y_min = -3.3 # valor min después de cero y pendiente\n",
        "y_max = 3.3 # valor max después de cero y pendiente\n",
        "\n",
        "def my_ceropen(x,ymin = -5, ymax = 5): #en general se pueden definir valores por defecto\n",
        "  xmax = max(x) # x.max()\n",
        "  xmin = min(x) # x.min()\n",
        "  m = (ymax - ymin)/(xmax - xmin)\n",
        "  c = ymin - m*xmin\n",
        "  y = m*x + c\n",
        "  return y\n",
        "\n"
      ]
    }
  ]
}
